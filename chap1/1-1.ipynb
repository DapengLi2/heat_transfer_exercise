{
 "metadata": {
  "language_info": {
   "codemirror_mode": {
    "name": "ipython",
    "version": 3
   },
   "file_extension": ".py",
   "mimetype": "text/x-python",
   "name": "python",
   "nbconvert_exporter": "python",
   "pygments_lexer": "ipython3",
   "version": "2.7.18-final"
  },
  "orig_nbformat": 2,
  "kernelspec": {
   "name": "python37064bit1dbe618b051f4e01abd7e4d738f0df98",
   "display_name": "Python 3.7.0 64-bit"
  }
 },
 "nbformat": 4,
 "nbformat_minor": 2,
 "cells": [
  {
   "source": [
    "# 1-1\n",
    "## 分析：\n",
    "（1）认为房间是一个闭口系统\n",
    "\n",
    "（2）根据能量平衡方程，电风扇产生的电能被房间空气吸收，从而使空气温度升高\n",
    "\n",
    "（3）电风扇产生的电能=电功率×时间\n",
    "\n",
    "（4）房间空气吸收的热量=$C_p \\cdot \\rho \\cdot V \\cdot (t_f - t_0)$ \n"
   ],
   "cell_type": "markdown",
   "metadata": {}
  },
  {
   "cell_type": "code",
   "execution_count": 8,
   "metadata": {},
   "outputs": [
    {
     "output_type": "stream",
     "name": "stdout",
     "text": [
      "10h后房间温度=140.0\n"
     ]
    }
   ],
   "source": [
    "# 电风扇产生的电能，单位为J\n",
    "E_fan = 150 * 10 * 3600\n",
    "\n",
    "# 房间容积\n",
    "V = 5 * 3 * 2.5\n",
    "\n",
    "# 空气热物性\n",
    "Cp = 1200 # J/(kg-C)\n",
    "rho = 1 # kg/m3\n",
    "\n",
    "#计算10h后房间温度\n",
    "t_0 = 20\n",
    "t_f = E_fan / (Cp * rho * V) + t_0\n",
    "print('10h后房间温度=' + str(t_f))\n"
   ]
  },
  {
   "cell_type": "code",
   "execution_count": null,
   "metadata": {},
   "outputs": [],
   "source": []
  }
 ]
}